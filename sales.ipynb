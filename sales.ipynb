{
 "cells": [
  {
   "cell_type": "code",
   "execution_count": 1,
   "metadata": {},
   "outputs": [],
   "source": [
    "# Start with loading all necessary libraries\n",
    "import numpy as np\n",
    "import pandas as pd\n",
    "import matplotlib.pyplot as plt\n",
    "import os\n",
    "import random\n",
    "\n",
    "from wordcloud import WordCloud, STOPWORDS\n"
   ]
  },
  {
   "cell_type": "code",
   "execution_count": 2,
   "metadata": {},
   "outputs": [],
   "source": [
    "#creating the table\n",
    "df = pd.read_csv(r'C:\\Users\\flowe\\Downloads\\Data Model - Pizza Sales.csv')\n"
   ]
  },
  {
   "attachments": {},
   "cell_type": "markdown",
   "metadata": {},
   "source": [
    "###### <img src=\"https://giffiles.alphacoders.com/148/148200.gif\" width = \"800\" align=\"center\"/>"
   ]
  },
  {
   "attachments": {},
   "cell_type": "markdown",
   "metadata": {},
   "source": [
    "# BB's Buongustaio Pizza Restaurante 2015 Annual Review\n",
    "\n",
    "In this project we'll be analysing store data from popular mom and pop restaurant BB's Buongustaio Pizza Restaurante. We'll be collaborating with stakeholders to create an interactive dashboard of their 2015 sales and noting suggestions for BB's marketing department and store managers to create a sales strategy.\n",
    "\n"
   ]
  },
  {
   "cell_type": "code",
   "execution_count": 3,
   "metadata": {},
   "outputs": [
    {
     "data": {
      "text/html": [
       "<div>\n",
       "<style scoped>\n",
       "    .dataframe tbody tr th:only-of-type {\n",
       "        vertical-align: middle;\n",
       "    }\n",
       "\n",
       "    .dataframe tbody tr th {\n",
       "        vertical-align: top;\n",
       "    }\n",
       "\n",
       "    .dataframe thead th {\n",
       "        text-align: right;\n",
       "    }\n",
       "</style>\n",
       "<table border=\"1\" class=\"dataframe\">\n",
       "  <thead>\n",
       "    <tr style=\"text-align: right;\">\n",
       "      <th></th>\n",
       "      <th>order_details_id</th>\n",
       "      <th>table_number</th>\n",
       "      <th>pizza_id</th>\n",
       "      <th>quantity</th>\n",
       "      <th>order_date</th>\n",
       "      <th>order_time</th>\n",
       "      <th>unit_price</th>\n",
       "      <th>total_price</th>\n",
       "      <th>pizza_size</th>\n",
       "      <th>pizza_category</th>\n",
       "      <th>pizza_ingredients</th>\n",
       "      <th>pizza_name</th>\n",
       "    </tr>\n",
       "  </thead>\n",
       "  <tbody>\n",
       "    <tr>\n",
       "      <th>0</th>\n",
       "      <td>1</td>\n",
       "      <td>1</td>\n",
       "      <td>hawaiian_m</td>\n",
       "      <td>1</td>\n",
       "      <td>1/1/2015</td>\n",
       "      <td>11:38:36</td>\n",
       "      <td>13.25</td>\n",
       "      <td>13.25</td>\n",
       "      <td>M</td>\n",
       "      <td>Classic</td>\n",
       "      <td>Sliced Ham, Pineapple, Mozzarella Cheese</td>\n",
       "      <td>The Hawaiian Pizza</td>\n",
       "    </tr>\n",
       "    <tr>\n",
       "      <th>1</th>\n",
       "      <td>2</td>\n",
       "      <td>2</td>\n",
       "      <td>classic_dlx_m</td>\n",
       "      <td>1</td>\n",
       "      <td>1/1/2015</td>\n",
       "      <td>11:57:40</td>\n",
       "      <td>16.00</td>\n",
       "      <td>16.00</td>\n",
       "      <td>M</td>\n",
       "      <td>Classic</td>\n",
       "      <td>Pepperoni, Mushrooms, Red Onions, Red Peppers,...</td>\n",
       "      <td>The Classic Deluxe Pizza</td>\n",
       "    </tr>\n",
       "    <tr>\n",
       "      <th>2</th>\n",
       "      <td>3</td>\n",
       "      <td>2</td>\n",
       "      <td>five_cheese_l</td>\n",
       "      <td>1</td>\n",
       "      <td>1/1/2015</td>\n",
       "      <td>11:57:40</td>\n",
       "      <td>18.50</td>\n",
       "      <td>18.50</td>\n",
       "      <td>L</td>\n",
       "      <td>Veggie</td>\n",
       "      <td>Mozzarella Cheese, Provolone Cheese, Smoked Go...</td>\n",
       "      <td>The Five Cheese Pizza</td>\n",
       "    </tr>\n",
       "    <tr>\n",
       "      <th>3</th>\n",
       "      <td>4</td>\n",
       "      <td>2</td>\n",
       "      <td>ital_supr_l</td>\n",
       "      <td>1</td>\n",
       "      <td>1/1/2015</td>\n",
       "      <td>11:57:40</td>\n",
       "      <td>20.75</td>\n",
       "      <td>20.75</td>\n",
       "      <td>L</td>\n",
       "      <td>Supreme</td>\n",
       "      <td>Calabrese Salami, Capocollo, Tomatoes, Red Oni...</td>\n",
       "      <td>The Italian Supreme Pizza</td>\n",
       "    </tr>\n",
       "    <tr>\n",
       "      <th>4</th>\n",
       "      <td>5</td>\n",
       "      <td>2</td>\n",
       "      <td>mexicana_m</td>\n",
       "      <td>1</td>\n",
       "      <td>1/1/2015</td>\n",
       "      <td>11:57:40</td>\n",
       "      <td>16.00</td>\n",
       "      <td>16.00</td>\n",
       "      <td>M</td>\n",
       "      <td>Veggie</td>\n",
       "      <td>Tomatoes, Red Peppers, Jalapeno Peppers, Red O...</td>\n",
       "      <td>The Mexicana Pizza</td>\n",
       "    </tr>\n",
       "  </tbody>\n",
       "</table>\n",
       "</div>"
      ],
      "text/plain": [
       "   order_details_id  table_number       pizza_id  quantity order_date  \\\n",
       "0                 1             1     hawaiian_m         1   1/1/2015   \n",
       "1                 2             2  classic_dlx_m         1   1/1/2015   \n",
       "2                 3             2  five_cheese_l         1   1/1/2015   \n",
       "3                 4             2    ital_supr_l         1   1/1/2015   \n",
       "4                 5             2     mexicana_m         1   1/1/2015   \n",
       "\n",
       "  order_time  unit_price  total_price pizza_size pizza_category  \\\n",
       "0   11:38:36       13.25        13.25          M        Classic   \n",
       "1   11:57:40       16.00        16.00          M        Classic   \n",
       "2   11:57:40       18.50        18.50          L         Veggie   \n",
       "3   11:57:40       20.75        20.75          L        Supreme   \n",
       "4   11:57:40       16.00        16.00          M         Veggie   \n",
       "\n",
       "                                   pizza_ingredients  \\\n",
       "0           Sliced Ham, Pineapple, Mozzarella Cheese   \n",
       "1  Pepperoni, Mushrooms, Red Onions, Red Peppers,...   \n",
       "2  Mozzarella Cheese, Provolone Cheese, Smoked Go...   \n",
       "3  Calabrese Salami, Capocollo, Tomatoes, Red Oni...   \n",
       "4  Tomatoes, Red Peppers, Jalapeno Peppers, Red O...   \n",
       "\n",
       "                  pizza_name  \n",
       "0         The Hawaiian Pizza  \n",
       "1   The Classic Deluxe Pizza  \n",
       "2      The Five Cheese Pizza  \n",
       "3  The Italian Supreme Pizza  \n",
       "4         The Mexicana Pizza  "
      ]
     },
     "execution_count": 3,
     "metadata": {},
     "output_type": "execute_result"
    }
   ],
   "source": [
    "df.head()"
   ]
  },
  {
   "attachments": {},
   "cell_type": "markdown",
   "metadata": {},
   "source": [
    "Taking a general look at the data, some of the information collected from the store is the customer order time, the date the order was placed, the name, type and size of the pizza, as well as the total price of each order recieved.\n"
   ]
  },
  {
   "cell_type": "code",
   "execution_count": 4,
   "metadata": {},
   "outputs": [
    {
     "data": {
      "text/plain": [
       "Index(['order_details_id', 'table_number', 'pizza_id', 'quantity',\n",
       "       'order_date', 'order_time', 'unit_price', 'total_price', 'pizza_size',\n",
       "       'pizza_category', 'pizza_ingredients', 'pizza_name'],\n",
       "      dtype='object')"
      ]
     },
     "execution_count": 4,
     "metadata": {},
     "output_type": "execute_result"
    }
   ],
   "source": [
    "df.columns"
   ]
  },
  {
   "cell_type": "code",
   "execution_count": 5,
   "metadata": {},
   "outputs": [
    {
     "data": {
      "text/plain": [
       "order_details_id       int64\n",
       "table_number           int64\n",
       "pizza_id              object\n",
       "quantity               int64\n",
       "order_date            object\n",
       "order_time            object\n",
       "unit_price           float64\n",
       "total_price          float64\n",
       "pizza_size            object\n",
       "pizza_category        object\n",
       "pizza_ingredients     object\n",
       "pizza_name            object\n",
       "dtype: object"
      ]
     },
     "execution_count": 5,
     "metadata": {},
     "output_type": "execute_result"
    }
   ],
   "source": [
    "df.dtypes"
   ]
  },
  {
   "attachments": {},
   "cell_type": "markdown",
   "metadata": {},
   "source": [
    "### Defining columns:\n",
    "- table_number: Unique identifier for each order placed by a table\n",
    "- order_details_id: Unique identifier for each pizza placed within each order (pizzas of the same type and size are kept in the same row, and the quantity increases)\n",
    "- pizza_id: Unique key identifier that ties the pizza ordered to its details, like size and price\n",
    "- quantity: Quantity ordered for each pizza of the same type and size\n",
    "- order_date: Date the order was placed (entered into the system prior to cooking & serving)\n",
    "- order_time: Time the order was placed (entered into the system prior to cooking & serving)\n",
    "- unit_price: Price of the pizza in USD\n",
    "- total_price: unit_price * quantity\n",
    "- pizza_size: Size of the pizza (Small, Medium, Large, X Large, or XX Large)\n",
    "- pizza_type: Unique key identifier that ties the pizza ordered to its details, like size and price\n",
    "- pizza_ingredients: ingredients used in the pizza as shown in the menu (they all include Mozzarella Cheese, even if not specified; and they all include Tomato Sauce, unless another sauce is specified)\n",
    "- pizza_name: Name of the pizza as shown in the menu"
   ]
  },
  {
   "attachments": {},
   "cell_type": "markdown",
   "metadata": {},
   "source": [
    "As we move forward to answer certain questions, we will have to construct several features suitable for that particular query. \n",
    "\n",
    "For now, we will construct two features: \n",
    " - df['day of the week']: The day of the week the order was placed\n",
    " - df['hour_of_the_week']: The time of day the order was placed by the whole hour \n",
    " - df['month']: The month the order was placed\n",
    " \n",
    " These features will help us determine the top selling days of the week, months and times of day. \n"
   ]
  },
  {
   "cell_type": "code",
   "execution_count": 38,
   "metadata": {},
   "outputs": [
    {
     "data": {
      "text/html": [
       "<div>\n",
       "<style scoped>\n",
       "    .dataframe tbody tr th:only-of-type {\n",
       "        vertical-align: middle;\n",
       "    }\n",
       "\n",
       "    .dataframe tbody tr th {\n",
       "        vertical-align: top;\n",
       "    }\n",
       "\n",
       "    .dataframe thead th {\n",
       "        text-align: right;\n",
       "    }\n",
       "</style>\n",
       "<table border=\"1\" class=\"dataframe\">\n",
       "  <thead>\n",
       "    <tr style=\"text-align: right;\">\n",
       "      <th></th>\n",
       "      <th>order_details_id</th>\n",
       "      <th>table_number</th>\n",
       "      <th>pizza_id</th>\n",
       "      <th>quantity</th>\n",
       "      <th>order_date</th>\n",
       "      <th>order_time</th>\n",
       "      <th>unit_price</th>\n",
       "      <th>total_price</th>\n",
       "      <th>pizza_size</th>\n",
       "      <th>pizza_category</th>\n",
       "      <th>pizza_ingredients</th>\n",
       "      <th>pizza_name</th>\n",
       "      <th>day_of_week</th>\n",
       "      <th>hour_of_day</th>\n",
       "      <th>month_of_sale</th>\n",
       "    </tr>\n",
       "  </thead>\n",
       "  <tbody>\n",
       "    <tr>\n",
       "      <th>0</th>\n",
       "      <td>1</td>\n",
       "      <td>1</td>\n",
       "      <td>hawaiian_m</td>\n",
       "      <td>1</td>\n",
       "      <td>2015-01-01</td>\n",
       "      <td>2023-03-24 11:38:36</td>\n",
       "      <td>13.25</td>\n",
       "      <td>13.25</td>\n",
       "      <td>M</td>\n",
       "      <td>Classic</td>\n",
       "      <td>Sliced Ham, Pineapple, Mozzarella Cheese</td>\n",
       "      <td>The Hawaiian Pizza</td>\n",
       "      <td>3</td>\n",
       "      <td>11</td>\n",
       "      <td>1</td>\n",
       "    </tr>\n",
       "    <tr>\n",
       "      <th>1</th>\n",
       "      <td>2</td>\n",
       "      <td>2</td>\n",
       "      <td>classic_dlx_m</td>\n",
       "      <td>1</td>\n",
       "      <td>2015-01-01</td>\n",
       "      <td>2023-03-24 11:57:40</td>\n",
       "      <td>16.00</td>\n",
       "      <td>16.00</td>\n",
       "      <td>M</td>\n",
       "      <td>Classic</td>\n",
       "      <td>Pepperoni, Mushrooms, Red Onions, Red Peppers,...</td>\n",
       "      <td>The Classic Deluxe Pizza</td>\n",
       "      <td>3</td>\n",
       "      <td>11</td>\n",
       "      <td>1</td>\n",
       "    </tr>\n",
       "    <tr>\n",
       "      <th>2</th>\n",
       "      <td>3</td>\n",
       "      <td>2</td>\n",
       "      <td>five_cheese_l</td>\n",
       "      <td>1</td>\n",
       "      <td>2015-01-01</td>\n",
       "      <td>2023-03-24 11:57:40</td>\n",
       "      <td>18.50</td>\n",
       "      <td>18.50</td>\n",
       "      <td>L</td>\n",
       "      <td>Veggie</td>\n",
       "      <td>Mozzarella Cheese, Provolone Cheese, Smoked Go...</td>\n",
       "      <td>The Five Cheese Pizza</td>\n",
       "      <td>3</td>\n",
       "      <td>11</td>\n",
       "      <td>1</td>\n",
       "    </tr>\n",
       "    <tr>\n",
       "      <th>3</th>\n",
       "      <td>4</td>\n",
       "      <td>2</td>\n",
       "      <td>ital_supr_l</td>\n",
       "      <td>1</td>\n",
       "      <td>2015-01-01</td>\n",
       "      <td>2023-03-24 11:57:40</td>\n",
       "      <td>20.75</td>\n",
       "      <td>20.75</td>\n",
       "      <td>L</td>\n",
       "      <td>Supreme</td>\n",
       "      <td>Calabrese Salami, Capocollo, Tomatoes, Red Oni...</td>\n",
       "      <td>The Italian Supreme Pizza</td>\n",
       "      <td>3</td>\n",
       "      <td>11</td>\n",
       "      <td>1</td>\n",
       "    </tr>\n",
       "    <tr>\n",
       "      <th>4</th>\n",
       "      <td>5</td>\n",
       "      <td>2</td>\n",
       "      <td>mexicana_m</td>\n",
       "      <td>1</td>\n",
       "      <td>2015-01-01</td>\n",
       "      <td>2023-03-24 11:57:40</td>\n",
       "      <td>16.00</td>\n",
       "      <td>16.00</td>\n",
       "      <td>M</td>\n",
       "      <td>Veggie</td>\n",
       "      <td>Tomatoes, Red Peppers, Jalapeno Peppers, Red O...</td>\n",
       "      <td>The Mexicana Pizza</td>\n",
       "      <td>3</td>\n",
       "      <td>11</td>\n",
       "      <td>1</td>\n",
       "    </tr>\n",
       "    <tr>\n",
       "      <th>...</th>\n",
       "      <td>...</td>\n",
       "      <td>...</td>\n",
       "      <td>...</td>\n",
       "      <td>...</td>\n",
       "      <td>...</td>\n",
       "      <td>...</td>\n",
       "      <td>...</td>\n",
       "      <td>...</td>\n",
       "      <td>...</td>\n",
       "      <td>...</td>\n",
       "      <td>...</td>\n",
       "      <td>...</td>\n",
       "      <td>...</td>\n",
       "      <td>...</td>\n",
       "      <td>...</td>\n",
       "    </tr>\n",
       "    <tr>\n",
       "      <th>48615</th>\n",
       "      <td>48616</td>\n",
       "      <td>21348</td>\n",
       "      <td>ckn_alfredo_m</td>\n",
       "      <td>1</td>\n",
       "      <td>2015-12-31</td>\n",
       "      <td>2023-03-24 21:23:10</td>\n",
       "      <td>16.75</td>\n",
       "      <td>16.75</td>\n",
       "      <td>M</td>\n",
       "      <td>Chicken</td>\n",
       "      <td>Chicken, Red Onions, Red Peppers, Mushrooms, A...</td>\n",
       "      <td>The Chicken Alfredo Pizza</td>\n",
       "      <td>3</td>\n",
       "      <td>21</td>\n",
       "      <td>12</td>\n",
       "    </tr>\n",
       "    <tr>\n",
       "      <th>48616</th>\n",
       "      <td>48617</td>\n",
       "      <td>21348</td>\n",
       "      <td>four_cheese_l</td>\n",
       "      <td>1</td>\n",
       "      <td>2015-12-31</td>\n",
       "      <td>2023-03-24 21:23:10</td>\n",
       "      <td>17.95</td>\n",
       "      <td>17.95</td>\n",
       "      <td>L</td>\n",
       "      <td>Veggie</td>\n",
       "      <td>Ricotta Cheese, Gorgonzola Piccante Cheese, Mo...</td>\n",
       "      <td>The Four Cheese Pizza</td>\n",
       "      <td>3</td>\n",
       "      <td>21</td>\n",
       "      <td>12</td>\n",
       "    </tr>\n",
       "    <tr>\n",
       "      <th>48617</th>\n",
       "      <td>48618</td>\n",
       "      <td>21348</td>\n",
       "      <td>napolitana_s</td>\n",
       "      <td>1</td>\n",
       "      <td>2015-12-31</td>\n",
       "      <td>2023-03-24 21:23:10</td>\n",
       "      <td>12.00</td>\n",
       "      <td>12.00</td>\n",
       "      <td>S</td>\n",
       "      <td>Classic</td>\n",
       "      <td>Tomatoes, Anchovies, Green Olives, Red Onions,...</td>\n",
       "      <td>The Napolitana Pizza</td>\n",
       "      <td>3</td>\n",
       "      <td>21</td>\n",
       "      <td>12</td>\n",
       "    </tr>\n",
       "    <tr>\n",
       "      <th>48618</th>\n",
       "      <td>48619</td>\n",
       "      <td>21349</td>\n",
       "      <td>mexicana_l</td>\n",
       "      <td>1</td>\n",
       "      <td>2015-12-31</td>\n",
       "      <td>2023-03-24 22:09:54</td>\n",
       "      <td>20.25</td>\n",
       "      <td>20.25</td>\n",
       "      <td>L</td>\n",
       "      <td>Veggie</td>\n",
       "      <td>Tomatoes, Red Peppers, Jalapeno Peppers, Red O...</td>\n",
       "      <td>The Mexicana Pizza</td>\n",
       "      <td>3</td>\n",
       "      <td>22</td>\n",
       "      <td>12</td>\n",
       "    </tr>\n",
       "    <tr>\n",
       "      <th>48619</th>\n",
       "      <td>48620</td>\n",
       "      <td>21350</td>\n",
       "      <td>bbq_ckn_s</td>\n",
       "      <td>1</td>\n",
       "      <td>2015-12-31</td>\n",
       "      <td>2023-03-24 23:02:05</td>\n",
       "      <td>12.75</td>\n",
       "      <td>12.75</td>\n",
       "      <td>S</td>\n",
       "      <td>Chicken</td>\n",
       "      <td>Barbecued Chicken, Red Peppers, Green Peppers,...</td>\n",
       "      <td>The Barbecue Chicken Pizza</td>\n",
       "      <td>3</td>\n",
       "      <td>23</td>\n",
       "      <td>12</td>\n",
       "    </tr>\n",
       "  </tbody>\n",
       "</table>\n",
       "<p>48620 rows × 15 columns</p>\n",
       "</div>"
      ],
      "text/plain": [
       "       order_details_id  table_number       pizza_id  quantity order_date  \\\n",
       "0                     1             1     hawaiian_m         1 2015-01-01   \n",
       "1                     2             2  classic_dlx_m         1 2015-01-01   \n",
       "2                     3             2  five_cheese_l         1 2015-01-01   \n",
       "3                     4             2    ital_supr_l         1 2015-01-01   \n",
       "4                     5             2     mexicana_m         1 2015-01-01   \n",
       "...                 ...           ...            ...       ...        ...   \n",
       "48615             48616         21348  ckn_alfredo_m         1 2015-12-31   \n",
       "48616             48617         21348  four_cheese_l         1 2015-12-31   \n",
       "48617             48618         21348   napolitana_s         1 2015-12-31   \n",
       "48618             48619         21349     mexicana_l         1 2015-12-31   \n",
       "48619             48620         21350      bbq_ckn_s         1 2015-12-31   \n",
       "\n",
       "               order_time  unit_price  total_price pizza_size pizza_category  \\\n",
       "0     2023-03-24 11:38:36       13.25        13.25          M        Classic   \n",
       "1     2023-03-24 11:57:40       16.00        16.00          M        Classic   \n",
       "2     2023-03-24 11:57:40       18.50        18.50          L         Veggie   \n",
       "3     2023-03-24 11:57:40       20.75        20.75          L        Supreme   \n",
       "4     2023-03-24 11:57:40       16.00        16.00          M         Veggie   \n",
       "...                   ...         ...          ...        ...            ...   \n",
       "48615 2023-03-24 21:23:10       16.75        16.75          M        Chicken   \n",
       "48616 2023-03-24 21:23:10       17.95        17.95          L         Veggie   \n",
       "48617 2023-03-24 21:23:10       12.00        12.00          S        Classic   \n",
       "48618 2023-03-24 22:09:54       20.25        20.25          L         Veggie   \n",
       "48619 2023-03-24 23:02:05       12.75        12.75          S        Chicken   \n",
       "\n",
       "                                       pizza_ingredients  \\\n",
       "0               Sliced Ham, Pineapple, Mozzarella Cheese   \n",
       "1      Pepperoni, Mushrooms, Red Onions, Red Peppers,...   \n",
       "2      Mozzarella Cheese, Provolone Cheese, Smoked Go...   \n",
       "3      Calabrese Salami, Capocollo, Tomatoes, Red Oni...   \n",
       "4      Tomatoes, Red Peppers, Jalapeno Peppers, Red O...   \n",
       "...                                                  ...   \n",
       "48615  Chicken, Red Onions, Red Peppers, Mushrooms, A...   \n",
       "48616  Ricotta Cheese, Gorgonzola Piccante Cheese, Mo...   \n",
       "48617  Tomatoes, Anchovies, Green Olives, Red Onions,...   \n",
       "48618  Tomatoes, Red Peppers, Jalapeno Peppers, Red O...   \n",
       "48619  Barbecued Chicken, Red Peppers, Green Peppers,...   \n",
       "\n",
       "                       pizza_name  day_of_week  hour_of_day  month_of_sale  \n",
       "0              The Hawaiian Pizza            3           11              1  \n",
       "1        The Classic Deluxe Pizza            3           11              1  \n",
       "2           The Five Cheese Pizza            3           11              1  \n",
       "3       The Italian Supreme Pizza            3           11              1  \n",
       "4              The Mexicana Pizza            3           11              1  \n",
       "...                           ...          ...          ...            ...  \n",
       "48615   The Chicken Alfredo Pizza            3           21             12  \n",
       "48616       The Four Cheese Pizza            3           21             12  \n",
       "48617        The Napolitana Pizza            3           21             12  \n",
       "48618          The Mexicana Pizza            3           22             12  \n",
       "48619  The Barbecue Chicken Pizza            3           23             12  \n",
       "\n",
       "[48620 rows x 15 columns]"
      ]
     },
     "execution_count": 38,
     "metadata": {},
     "output_type": "execute_result"
    }
   ],
   "source": [
    "# creating day of the week column\n",
    "df['order_date'] = pd.to_datetime(df['order_date'], errors='coerce')\n",
    "df[\"day_of_week\"] = df[\"order_date\"].dt.dayofweek\n",
    "df\n"
   ]
  },
  {
   "cell_type": "code",
   "execution_count": 7,
   "metadata": {},
   "outputs": [
    {
     "data": {
      "text/html": [
       "<div>\n",
       "<style scoped>\n",
       "    .dataframe tbody tr th:only-of-type {\n",
       "        vertical-align: middle;\n",
       "    }\n",
       "\n",
       "    .dataframe tbody tr th {\n",
       "        vertical-align: top;\n",
       "    }\n",
       "\n",
       "    .dataframe thead th {\n",
       "        text-align: right;\n",
       "    }\n",
       "</style>\n",
       "<table border=\"1\" class=\"dataframe\">\n",
       "  <thead>\n",
       "    <tr style=\"text-align: right;\">\n",
       "      <th></th>\n",
       "      <th>order_details_id</th>\n",
       "      <th>table_number</th>\n",
       "      <th>pizza_id</th>\n",
       "      <th>quantity</th>\n",
       "      <th>order_date</th>\n",
       "      <th>order_time</th>\n",
       "      <th>unit_price</th>\n",
       "      <th>total_price</th>\n",
       "      <th>pizza_size</th>\n",
       "      <th>pizza_category</th>\n",
       "      <th>pizza_ingredients</th>\n",
       "      <th>pizza_name</th>\n",
       "      <th>day_of_week</th>\n",
       "      <th>hour_of_day</th>\n",
       "    </tr>\n",
       "  </thead>\n",
       "  <tbody>\n",
       "    <tr>\n",
       "      <th>0</th>\n",
       "      <td>1</td>\n",
       "      <td>1</td>\n",
       "      <td>hawaiian_m</td>\n",
       "      <td>1</td>\n",
       "      <td>2015-01-01</td>\n",
       "      <td>2023-03-24 11:38:36</td>\n",
       "      <td>13.25</td>\n",
       "      <td>13.25</td>\n",
       "      <td>M</td>\n",
       "      <td>Classic</td>\n",
       "      <td>Sliced Ham, Pineapple, Mozzarella Cheese</td>\n",
       "      <td>The Hawaiian Pizza</td>\n",
       "      <td>3</td>\n",
       "      <td>11</td>\n",
       "    </tr>\n",
       "    <tr>\n",
       "      <th>1</th>\n",
       "      <td>2</td>\n",
       "      <td>2</td>\n",
       "      <td>classic_dlx_m</td>\n",
       "      <td>1</td>\n",
       "      <td>2015-01-01</td>\n",
       "      <td>2023-03-24 11:57:40</td>\n",
       "      <td>16.00</td>\n",
       "      <td>16.00</td>\n",
       "      <td>M</td>\n",
       "      <td>Classic</td>\n",
       "      <td>Pepperoni, Mushrooms, Red Onions, Red Peppers,...</td>\n",
       "      <td>The Classic Deluxe Pizza</td>\n",
       "      <td>3</td>\n",
       "      <td>11</td>\n",
       "    </tr>\n",
       "    <tr>\n",
       "      <th>2</th>\n",
       "      <td>3</td>\n",
       "      <td>2</td>\n",
       "      <td>five_cheese_l</td>\n",
       "      <td>1</td>\n",
       "      <td>2015-01-01</td>\n",
       "      <td>2023-03-24 11:57:40</td>\n",
       "      <td>18.50</td>\n",
       "      <td>18.50</td>\n",
       "      <td>L</td>\n",
       "      <td>Veggie</td>\n",
       "      <td>Mozzarella Cheese, Provolone Cheese, Smoked Go...</td>\n",
       "      <td>The Five Cheese Pizza</td>\n",
       "      <td>3</td>\n",
       "      <td>11</td>\n",
       "    </tr>\n",
       "    <tr>\n",
       "      <th>3</th>\n",
       "      <td>4</td>\n",
       "      <td>2</td>\n",
       "      <td>ital_supr_l</td>\n",
       "      <td>1</td>\n",
       "      <td>2015-01-01</td>\n",
       "      <td>2023-03-24 11:57:40</td>\n",
       "      <td>20.75</td>\n",
       "      <td>20.75</td>\n",
       "      <td>L</td>\n",
       "      <td>Supreme</td>\n",
       "      <td>Calabrese Salami, Capocollo, Tomatoes, Red Oni...</td>\n",
       "      <td>The Italian Supreme Pizza</td>\n",
       "      <td>3</td>\n",
       "      <td>11</td>\n",
       "    </tr>\n",
       "    <tr>\n",
       "      <th>4</th>\n",
       "      <td>5</td>\n",
       "      <td>2</td>\n",
       "      <td>mexicana_m</td>\n",
       "      <td>1</td>\n",
       "      <td>2015-01-01</td>\n",
       "      <td>2023-03-24 11:57:40</td>\n",
       "      <td>16.00</td>\n",
       "      <td>16.00</td>\n",
       "      <td>M</td>\n",
       "      <td>Veggie</td>\n",
       "      <td>Tomatoes, Red Peppers, Jalapeno Peppers, Red O...</td>\n",
       "      <td>The Mexicana Pizza</td>\n",
       "      <td>3</td>\n",
       "      <td>11</td>\n",
       "    </tr>\n",
       "    <tr>\n",
       "      <th>...</th>\n",
       "      <td>...</td>\n",
       "      <td>...</td>\n",
       "      <td>...</td>\n",
       "      <td>...</td>\n",
       "      <td>...</td>\n",
       "      <td>...</td>\n",
       "      <td>...</td>\n",
       "      <td>...</td>\n",
       "      <td>...</td>\n",
       "      <td>...</td>\n",
       "      <td>...</td>\n",
       "      <td>...</td>\n",
       "      <td>...</td>\n",
       "      <td>...</td>\n",
       "    </tr>\n",
       "    <tr>\n",
       "      <th>48615</th>\n",
       "      <td>48616</td>\n",
       "      <td>21348</td>\n",
       "      <td>ckn_alfredo_m</td>\n",
       "      <td>1</td>\n",
       "      <td>2015-12-31</td>\n",
       "      <td>2023-03-24 21:23:10</td>\n",
       "      <td>16.75</td>\n",
       "      <td>16.75</td>\n",
       "      <td>M</td>\n",
       "      <td>Chicken</td>\n",
       "      <td>Chicken, Red Onions, Red Peppers, Mushrooms, A...</td>\n",
       "      <td>The Chicken Alfredo Pizza</td>\n",
       "      <td>3</td>\n",
       "      <td>21</td>\n",
       "    </tr>\n",
       "    <tr>\n",
       "      <th>48616</th>\n",
       "      <td>48617</td>\n",
       "      <td>21348</td>\n",
       "      <td>four_cheese_l</td>\n",
       "      <td>1</td>\n",
       "      <td>2015-12-31</td>\n",
       "      <td>2023-03-24 21:23:10</td>\n",
       "      <td>17.95</td>\n",
       "      <td>17.95</td>\n",
       "      <td>L</td>\n",
       "      <td>Veggie</td>\n",
       "      <td>Ricotta Cheese, Gorgonzola Piccante Cheese, Mo...</td>\n",
       "      <td>The Four Cheese Pizza</td>\n",
       "      <td>3</td>\n",
       "      <td>21</td>\n",
       "    </tr>\n",
       "    <tr>\n",
       "      <th>48617</th>\n",
       "      <td>48618</td>\n",
       "      <td>21348</td>\n",
       "      <td>napolitana_s</td>\n",
       "      <td>1</td>\n",
       "      <td>2015-12-31</td>\n",
       "      <td>2023-03-24 21:23:10</td>\n",
       "      <td>12.00</td>\n",
       "      <td>12.00</td>\n",
       "      <td>S</td>\n",
       "      <td>Classic</td>\n",
       "      <td>Tomatoes, Anchovies, Green Olives, Red Onions,...</td>\n",
       "      <td>The Napolitana Pizza</td>\n",
       "      <td>3</td>\n",
       "      <td>21</td>\n",
       "    </tr>\n",
       "    <tr>\n",
       "      <th>48618</th>\n",
       "      <td>48619</td>\n",
       "      <td>21349</td>\n",
       "      <td>mexicana_l</td>\n",
       "      <td>1</td>\n",
       "      <td>2015-12-31</td>\n",
       "      <td>2023-03-24 22:09:54</td>\n",
       "      <td>20.25</td>\n",
       "      <td>20.25</td>\n",
       "      <td>L</td>\n",
       "      <td>Veggie</td>\n",
       "      <td>Tomatoes, Red Peppers, Jalapeno Peppers, Red O...</td>\n",
       "      <td>The Mexicana Pizza</td>\n",
       "      <td>3</td>\n",
       "      <td>22</td>\n",
       "    </tr>\n",
       "    <tr>\n",
       "      <th>48619</th>\n",
       "      <td>48620</td>\n",
       "      <td>21350</td>\n",
       "      <td>bbq_ckn_s</td>\n",
       "      <td>1</td>\n",
       "      <td>2015-12-31</td>\n",
       "      <td>2023-03-24 23:02:05</td>\n",
       "      <td>12.75</td>\n",
       "      <td>12.75</td>\n",
       "      <td>S</td>\n",
       "      <td>Chicken</td>\n",
       "      <td>Barbecued Chicken, Red Peppers, Green Peppers,...</td>\n",
       "      <td>The Barbecue Chicken Pizza</td>\n",
       "      <td>3</td>\n",
       "      <td>23</td>\n",
       "    </tr>\n",
       "  </tbody>\n",
       "</table>\n",
       "<p>48620 rows × 14 columns</p>\n",
       "</div>"
      ],
      "text/plain": [
       "       order_details_id  table_number       pizza_id  quantity order_date  \\\n",
       "0                     1             1     hawaiian_m         1 2015-01-01   \n",
       "1                     2             2  classic_dlx_m         1 2015-01-01   \n",
       "2                     3             2  five_cheese_l         1 2015-01-01   \n",
       "3                     4             2    ital_supr_l         1 2015-01-01   \n",
       "4                     5             2     mexicana_m         1 2015-01-01   \n",
       "...                 ...           ...            ...       ...        ...   \n",
       "48615             48616         21348  ckn_alfredo_m         1 2015-12-31   \n",
       "48616             48617         21348  four_cheese_l         1 2015-12-31   \n",
       "48617             48618         21348   napolitana_s         1 2015-12-31   \n",
       "48618             48619         21349     mexicana_l         1 2015-12-31   \n",
       "48619             48620         21350      bbq_ckn_s         1 2015-12-31   \n",
       "\n",
       "               order_time  unit_price  total_price pizza_size pizza_category  \\\n",
       "0     2023-03-24 11:38:36       13.25        13.25          M        Classic   \n",
       "1     2023-03-24 11:57:40       16.00        16.00          M        Classic   \n",
       "2     2023-03-24 11:57:40       18.50        18.50          L         Veggie   \n",
       "3     2023-03-24 11:57:40       20.75        20.75          L        Supreme   \n",
       "4     2023-03-24 11:57:40       16.00        16.00          M         Veggie   \n",
       "...                   ...         ...          ...        ...            ...   \n",
       "48615 2023-03-24 21:23:10       16.75        16.75          M        Chicken   \n",
       "48616 2023-03-24 21:23:10       17.95        17.95          L         Veggie   \n",
       "48617 2023-03-24 21:23:10       12.00        12.00          S        Classic   \n",
       "48618 2023-03-24 22:09:54       20.25        20.25          L         Veggie   \n",
       "48619 2023-03-24 23:02:05       12.75        12.75          S        Chicken   \n",
       "\n",
       "                                       pizza_ingredients  \\\n",
       "0               Sliced Ham, Pineapple, Mozzarella Cheese   \n",
       "1      Pepperoni, Mushrooms, Red Onions, Red Peppers,...   \n",
       "2      Mozzarella Cheese, Provolone Cheese, Smoked Go...   \n",
       "3      Calabrese Salami, Capocollo, Tomatoes, Red Oni...   \n",
       "4      Tomatoes, Red Peppers, Jalapeno Peppers, Red O...   \n",
       "...                                                  ...   \n",
       "48615  Chicken, Red Onions, Red Peppers, Mushrooms, A...   \n",
       "48616  Ricotta Cheese, Gorgonzola Piccante Cheese, Mo...   \n",
       "48617  Tomatoes, Anchovies, Green Olives, Red Onions,...   \n",
       "48618  Tomatoes, Red Peppers, Jalapeno Peppers, Red O...   \n",
       "48619  Barbecued Chicken, Red Peppers, Green Peppers,...   \n",
       "\n",
       "                       pizza_name  day_of_week  hour_of_day  \n",
       "0              The Hawaiian Pizza            3           11  \n",
       "1        The Classic Deluxe Pizza            3           11  \n",
       "2           The Five Cheese Pizza            3           11  \n",
       "3       The Italian Supreme Pizza            3           11  \n",
       "4              The Mexicana Pizza            3           11  \n",
       "...                           ...          ...          ...  \n",
       "48615   The Chicken Alfredo Pizza            3           21  \n",
       "48616       The Four Cheese Pizza            3           21  \n",
       "48617        The Napolitana Pizza            3           21  \n",
       "48618          The Mexicana Pizza            3           22  \n",
       "48619  The Barbecue Chicken Pizza            3           23  \n",
       "\n",
       "[48620 rows x 14 columns]"
      ]
     },
     "execution_count": 7,
     "metadata": {},
     "output_type": "execute_result"
    }
   ],
   "source": [
    "#creating hour column\n",
    "df['order_time'] = pd.to_datetime(df['order_time'], errors='coerce')\n",
    "df[\"hour_of_day\"] = df[\"order_time\"].dt.hour\n",
    "df\n"
   ]
  },
  {
   "cell_type": "code",
   "execution_count": 8,
   "metadata": {},
   "outputs": [
    {
     "data": {
      "text/html": [
       "<div>\n",
       "<style scoped>\n",
       "    .dataframe tbody tr th:only-of-type {\n",
       "        vertical-align: middle;\n",
       "    }\n",
       "\n",
       "    .dataframe tbody tr th {\n",
       "        vertical-align: top;\n",
       "    }\n",
       "\n",
       "    .dataframe thead th {\n",
       "        text-align: right;\n",
       "    }\n",
       "</style>\n",
       "<table border=\"1\" class=\"dataframe\">\n",
       "  <thead>\n",
       "    <tr style=\"text-align: right;\">\n",
       "      <th></th>\n",
       "      <th>order_details_id</th>\n",
       "      <th>table_number</th>\n",
       "      <th>pizza_id</th>\n",
       "      <th>quantity</th>\n",
       "      <th>order_date</th>\n",
       "      <th>order_time</th>\n",
       "      <th>unit_price</th>\n",
       "      <th>total_price</th>\n",
       "      <th>pizza_size</th>\n",
       "      <th>pizza_category</th>\n",
       "      <th>pizza_ingredients</th>\n",
       "      <th>pizza_name</th>\n",
       "      <th>day_of_week</th>\n",
       "      <th>hour_of_day</th>\n",
       "      <th>month_of_sale</th>\n",
       "    </tr>\n",
       "  </thead>\n",
       "  <tbody>\n",
       "    <tr>\n",
       "      <th>0</th>\n",
       "      <td>1</td>\n",
       "      <td>1</td>\n",
       "      <td>hawaiian_m</td>\n",
       "      <td>1</td>\n",
       "      <td>2015-01-01</td>\n",
       "      <td>2023-03-24 11:38:36</td>\n",
       "      <td>13.25</td>\n",
       "      <td>13.25</td>\n",
       "      <td>M</td>\n",
       "      <td>Classic</td>\n",
       "      <td>Sliced Ham, Pineapple, Mozzarella Cheese</td>\n",
       "      <td>The Hawaiian Pizza</td>\n",
       "      <td>3</td>\n",
       "      <td>11</td>\n",
       "      <td>1</td>\n",
       "    </tr>\n",
       "    <tr>\n",
       "      <th>1</th>\n",
       "      <td>2</td>\n",
       "      <td>2</td>\n",
       "      <td>classic_dlx_m</td>\n",
       "      <td>1</td>\n",
       "      <td>2015-01-01</td>\n",
       "      <td>2023-03-24 11:57:40</td>\n",
       "      <td>16.00</td>\n",
       "      <td>16.00</td>\n",
       "      <td>M</td>\n",
       "      <td>Classic</td>\n",
       "      <td>Pepperoni, Mushrooms, Red Onions, Red Peppers,...</td>\n",
       "      <td>The Classic Deluxe Pizza</td>\n",
       "      <td>3</td>\n",
       "      <td>11</td>\n",
       "      <td>1</td>\n",
       "    </tr>\n",
       "    <tr>\n",
       "      <th>2</th>\n",
       "      <td>3</td>\n",
       "      <td>2</td>\n",
       "      <td>five_cheese_l</td>\n",
       "      <td>1</td>\n",
       "      <td>2015-01-01</td>\n",
       "      <td>2023-03-24 11:57:40</td>\n",
       "      <td>18.50</td>\n",
       "      <td>18.50</td>\n",
       "      <td>L</td>\n",
       "      <td>Veggie</td>\n",
       "      <td>Mozzarella Cheese, Provolone Cheese, Smoked Go...</td>\n",
       "      <td>The Five Cheese Pizza</td>\n",
       "      <td>3</td>\n",
       "      <td>11</td>\n",
       "      <td>1</td>\n",
       "    </tr>\n",
       "    <tr>\n",
       "      <th>3</th>\n",
       "      <td>4</td>\n",
       "      <td>2</td>\n",
       "      <td>ital_supr_l</td>\n",
       "      <td>1</td>\n",
       "      <td>2015-01-01</td>\n",
       "      <td>2023-03-24 11:57:40</td>\n",
       "      <td>20.75</td>\n",
       "      <td>20.75</td>\n",
       "      <td>L</td>\n",
       "      <td>Supreme</td>\n",
       "      <td>Calabrese Salami, Capocollo, Tomatoes, Red Oni...</td>\n",
       "      <td>The Italian Supreme Pizza</td>\n",
       "      <td>3</td>\n",
       "      <td>11</td>\n",
       "      <td>1</td>\n",
       "    </tr>\n",
       "    <tr>\n",
       "      <th>4</th>\n",
       "      <td>5</td>\n",
       "      <td>2</td>\n",
       "      <td>mexicana_m</td>\n",
       "      <td>1</td>\n",
       "      <td>2015-01-01</td>\n",
       "      <td>2023-03-24 11:57:40</td>\n",
       "      <td>16.00</td>\n",
       "      <td>16.00</td>\n",
       "      <td>M</td>\n",
       "      <td>Veggie</td>\n",
       "      <td>Tomatoes, Red Peppers, Jalapeno Peppers, Red O...</td>\n",
       "      <td>The Mexicana Pizza</td>\n",
       "      <td>3</td>\n",
       "      <td>11</td>\n",
       "      <td>1</td>\n",
       "    </tr>\n",
       "    <tr>\n",
       "      <th>...</th>\n",
       "      <td>...</td>\n",
       "      <td>...</td>\n",
       "      <td>...</td>\n",
       "      <td>...</td>\n",
       "      <td>...</td>\n",
       "      <td>...</td>\n",
       "      <td>...</td>\n",
       "      <td>...</td>\n",
       "      <td>...</td>\n",
       "      <td>...</td>\n",
       "      <td>...</td>\n",
       "      <td>...</td>\n",
       "      <td>...</td>\n",
       "      <td>...</td>\n",
       "      <td>...</td>\n",
       "    </tr>\n",
       "    <tr>\n",
       "      <th>48615</th>\n",
       "      <td>48616</td>\n",
       "      <td>21348</td>\n",
       "      <td>ckn_alfredo_m</td>\n",
       "      <td>1</td>\n",
       "      <td>2015-12-31</td>\n",
       "      <td>2023-03-24 21:23:10</td>\n",
       "      <td>16.75</td>\n",
       "      <td>16.75</td>\n",
       "      <td>M</td>\n",
       "      <td>Chicken</td>\n",
       "      <td>Chicken, Red Onions, Red Peppers, Mushrooms, A...</td>\n",
       "      <td>The Chicken Alfredo Pizza</td>\n",
       "      <td>3</td>\n",
       "      <td>21</td>\n",
       "      <td>12</td>\n",
       "    </tr>\n",
       "    <tr>\n",
       "      <th>48616</th>\n",
       "      <td>48617</td>\n",
       "      <td>21348</td>\n",
       "      <td>four_cheese_l</td>\n",
       "      <td>1</td>\n",
       "      <td>2015-12-31</td>\n",
       "      <td>2023-03-24 21:23:10</td>\n",
       "      <td>17.95</td>\n",
       "      <td>17.95</td>\n",
       "      <td>L</td>\n",
       "      <td>Veggie</td>\n",
       "      <td>Ricotta Cheese, Gorgonzola Piccante Cheese, Mo...</td>\n",
       "      <td>The Four Cheese Pizza</td>\n",
       "      <td>3</td>\n",
       "      <td>21</td>\n",
       "      <td>12</td>\n",
       "    </tr>\n",
       "    <tr>\n",
       "      <th>48617</th>\n",
       "      <td>48618</td>\n",
       "      <td>21348</td>\n",
       "      <td>napolitana_s</td>\n",
       "      <td>1</td>\n",
       "      <td>2015-12-31</td>\n",
       "      <td>2023-03-24 21:23:10</td>\n",
       "      <td>12.00</td>\n",
       "      <td>12.00</td>\n",
       "      <td>S</td>\n",
       "      <td>Classic</td>\n",
       "      <td>Tomatoes, Anchovies, Green Olives, Red Onions,...</td>\n",
       "      <td>The Napolitana Pizza</td>\n",
       "      <td>3</td>\n",
       "      <td>21</td>\n",
       "      <td>12</td>\n",
       "    </tr>\n",
       "    <tr>\n",
       "      <th>48618</th>\n",
       "      <td>48619</td>\n",
       "      <td>21349</td>\n",
       "      <td>mexicana_l</td>\n",
       "      <td>1</td>\n",
       "      <td>2015-12-31</td>\n",
       "      <td>2023-03-24 22:09:54</td>\n",
       "      <td>20.25</td>\n",
       "      <td>20.25</td>\n",
       "      <td>L</td>\n",
       "      <td>Veggie</td>\n",
       "      <td>Tomatoes, Red Peppers, Jalapeno Peppers, Red O...</td>\n",
       "      <td>The Mexicana Pizza</td>\n",
       "      <td>3</td>\n",
       "      <td>22</td>\n",
       "      <td>12</td>\n",
       "    </tr>\n",
       "    <tr>\n",
       "      <th>48619</th>\n",
       "      <td>48620</td>\n",
       "      <td>21350</td>\n",
       "      <td>bbq_ckn_s</td>\n",
       "      <td>1</td>\n",
       "      <td>2015-12-31</td>\n",
       "      <td>2023-03-24 23:02:05</td>\n",
       "      <td>12.75</td>\n",
       "      <td>12.75</td>\n",
       "      <td>S</td>\n",
       "      <td>Chicken</td>\n",
       "      <td>Barbecued Chicken, Red Peppers, Green Peppers,...</td>\n",
       "      <td>The Barbecue Chicken Pizza</td>\n",
       "      <td>3</td>\n",
       "      <td>23</td>\n",
       "      <td>12</td>\n",
       "    </tr>\n",
       "  </tbody>\n",
       "</table>\n",
       "<p>48620 rows × 15 columns</p>\n",
       "</div>"
      ],
      "text/plain": [
       "       order_details_id  table_number       pizza_id  quantity order_date  \\\n",
       "0                     1             1     hawaiian_m         1 2015-01-01   \n",
       "1                     2             2  classic_dlx_m         1 2015-01-01   \n",
       "2                     3             2  five_cheese_l         1 2015-01-01   \n",
       "3                     4             2    ital_supr_l         1 2015-01-01   \n",
       "4                     5             2     mexicana_m         1 2015-01-01   \n",
       "...                 ...           ...            ...       ...        ...   \n",
       "48615             48616         21348  ckn_alfredo_m         1 2015-12-31   \n",
       "48616             48617         21348  four_cheese_l         1 2015-12-31   \n",
       "48617             48618         21348   napolitana_s         1 2015-12-31   \n",
       "48618             48619         21349     mexicana_l         1 2015-12-31   \n",
       "48619             48620         21350      bbq_ckn_s         1 2015-12-31   \n",
       "\n",
       "               order_time  unit_price  total_price pizza_size pizza_category  \\\n",
       "0     2023-03-24 11:38:36       13.25        13.25          M        Classic   \n",
       "1     2023-03-24 11:57:40       16.00        16.00          M        Classic   \n",
       "2     2023-03-24 11:57:40       18.50        18.50          L         Veggie   \n",
       "3     2023-03-24 11:57:40       20.75        20.75          L        Supreme   \n",
       "4     2023-03-24 11:57:40       16.00        16.00          M         Veggie   \n",
       "...                   ...         ...          ...        ...            ...   \n",
       "48615 2023-03-24 21:23:10       16.75        16.75          M        Chicken   \n",
       "48616 2023-03-24 21:23:10       17.95        17.95          L         Veggie   \n",
       "48617 2023-03-24 21:23:10       12.00        12.00          S        Classic   \n",
       "48618 2023-03-24 22:09:54       20.25        20.25          L         Veggie   \n",
       "48619 2023-03-24 23:02:05       12.75        12.75          S        Chicken   \n",
       "\n",
       "                                       pizza_ingredients  \\\n",
       "0               Sliced Ham, Pineapple, Mozzarella Cheese   \n",
       "1      Pepperoni, Mushrooms, Red Onions, Red Peppers,...   \n",
       "2      Mozzarella Cheese, Provolone Cheese, Smoked Go...   \n",
       "3      Calabrese Salami, Capocollo, Tomatoes, Red Oni...   \n",
       "4      Tomatoes, Red Peppers, Jalapeno Peppers, Red O...   \n",
       "...                                                  ...   \n",
       "48615  Chicken, Red Onions, Red Peppers, Mushrooms, A...   \n",
       "48616  Ricotta Cheese, Gorgonzola Piccante Cheese, Mo...   \n",
       "48617  Tomatoes, Anchovies, Green Olives, Red Onions,...   \n",
       "48618  Tomatoes, Red Peppers, Jalapeno Peppers, Red O...   \n",
       "48619  Barbecued Chicken, Red Peppers, Green Peppers,...   \n",
       "\n",
       "                       pizza_name  day_of_week  hour_of_day  month_of_sale  \n",
       "0              The Hawaiian Pizza            3           11              1  \n",
       "1        The Classic Deluxe Pizza            3           11              1  \n",
       "2           The Five Cheese Pizza            3           11              1  \n",
       "3       The Italian Supreme Pizza            3           11              1  \n",
       "4              The Mexicana Pizza            3           11              1  \n",
       "...                           ...          ...          ...            ...  \n",
       "48615   The Chicken Alfredo Pizza            3           21             12  \n",
       "48616       The Four Cheese Pizza            3           21             12  \n",
       "48617        The Napolitana Pizza            3           21             12  \n",
       "48618          The Mexicana Pizza            3           22             12  \n",
       "48619  The Barbecue Chicken Pizza            3           23             12  \n",
       "\n",
       "[48620 rows x 15 columns]"
      ]
     },
     "execution_count": 8,
     "metadata": {},
     "output_type": "execute_result"
    }
   ],
   "source": [
    "#creating month column\n",
    "df['order_time'] = pd.to_datetime(df['order_time'], errors='coerce')\n",
    "df[\"month_of_sale\"] = df[\"order_date\"].dt.month\n",
    "df"
   ]
  },
  {
   "attachments": {},
   "cell_type": "markdown",
   "metadata": {},
   "source": [
    "Perfect, now we can begin to take a closer look at this data."
   ]
  },
  {
   "cell_type": "code",
   "execution_count": 9,
   "metadata": {},
   "outputs": [
    {
     "data": {
      "text/plain": [
       "(48620, 15)"
      ]
     },
     "execution_count": 9,
     "metadata": {},
     "output_type": "execute_result"
    }
   ],
   "source": [
    "df.shape"
   ]
  },
  {
   "cell_type": "code",
   "execution_count": 39,
   "metadata": {},
   "outputs": [
    {
     "name": "stdout",
     "output_type": "stream",
     "text": [
      "<class 'pandas.core.frame.DataFrame'>\n",
      "RangeIndex: 48620 entries, 0 to 48619\n",
      "Data columns (total 15 columns):\n",
      " #   Column             Non-Null Count  Dtype         \n",
      "---  ------             --------------  -----         \n",
      " 0   order_details_id   48620 non-null  int64         \n",
      " 1   table_number       48620 non-null  int64         \n",
      " 2   pizza_id           48620 non-null  object        \n",
      " 3   quantity           48620 non-null  int64         \n",
      " 4   order_date         48620 non-null  datetime64[ns]\n",
      " 5   order_time         48620 non-null  datetime64[ns]\n",
      " 6   unit_price         48620 non-null  float64       \n",
      " 7   total_price        48620 non-null  float64       \n",
      " 8   pizza_size         48620 non-null  object        \n",
      " 9   pizza_category     48620 non-null  object        \n",
      " 10  pizza_ingredients  48620 non-null  object        \n",
      " 11  pizza_name         48620 non-null  object        \n",
      " 12  day_of_week        48620 non-null  int64         \n",
      " 13  hour_of_day        48620 non-null  int64         \n",
      " 14  month_of_sale      48620 non-null  int64         \n",
      "dtypes: datetime64[ns](2), float64(2), int64(6), object(5)\n",
      "memory usage: 5.6+ MB\n"
     ]
    }
   ],
   "source": [
    "df.info()"
   ]
  },
  {
   "cell_type": "code",
   "execution_count": 11,
   "metadata": {},
   "outputs": [
    {
     "data": {
      "text/html": [
       "<div>\n",
       "<style scoped>\n",
       "    .dataframe tbody tr th:only-of-type {\n",
       "        vertical-align: middle;\n",
       "    }\n",
       "\n",
       "    .dataframe tbody tr th {\n",
       "        vertical-align: top;\n",
       "    }\n",
       "\n",
       "    .dataframe thead th {\n",
       "        text-align: right;\n",
       "    }\n",
       "</style>\n",
       "<table border=\"1\" class=\"dataframe\">\n",
       "  <thead>\n",
       "    <tr style=\"text-align: right;\">\n",
       "      <th></th>\n",
       "      <th>order_details_id</th>\n",
       "      <th>table_number</th>\n",
       "      <th>quantity</th>\n",
       "      <th>unit_price</th>\n",
       "      <th>total_price</th>\n",
       "      <th>day_of_week</th>\n",
       "      <th>hour_of_day</th>\n",
       "      <th>month_of_sale</th>\n",
       "    </tr>\n",
       "  </thead>\n",
       "  <tbody>\n",
       "    <tr>\n",
       "      <th>count</th>\n",
       "      <td>48620.000000</td>\n",
       "      <td>48620.000000</td>\n",
       "      <td>48620.000000</td>\n",
       "      <td>48620.000000</td>\n",
       "      <td>48620.000000</td>\n",
       "      <td>48620.000000</td>\n",
       "      <td>48620.000000</td>\n",
       "      <td>48620.000000</td>\n",
       "    </tr>\n",
       "    <tr>\n",
       "      <th>mean</th>\n",
       "      <td>24310.500000</td>\n",
       "      <td>10701.479761</td>\n",
       "      <td>1.019622</td>\n",
       "      <td>16.494132</td>\n",
       "      <td>16.821474</td>\n",
       "      <td>3.023797</td>\n",
       "      <td>15.911806</td>\n",
       "      <td>6.451131</td>\n",
       "    </tr>\n",
       "    <tr>\n",
       "      <th>std</th>\n",
       "      <td>14035.529381</td>\n",
       "      <td>6180.119770</td>\n",
       "      <td>0.143077</td>\n",
       "      <td>3.621789</td>\n",
       "      <td>4.437398</td>\n",
       "      <td>1.934155</td>\n",
       "      <td>3.149836</td>\n",
       "      <td>3.435420</td>\n",
       "    </tr>\n",
       "    <tr>\n",
       "      <th>min</th>\n",
       "      <td>1.000000</td>\n",
       "      <td>1.000000</td>\n",
       "      <td>1.000000</td>\n",
       "      <td>9.750000</td>\n",
       "      <td>9.750000</td>\n",
       "      <td>0.000000</td>\n",
       "      <td>9.000000</td>\n",
       "      <td>1.000000</td>\n",
       "    </tr>\n",
       "    <tr>\n",
       "      <th>25%</th>\n",
       "      <td>12155.750000</td>\n",
       "      <td>5337.000000</td>\n",
       "      <td>1.000000</td>\n",
       "      <td>12.750000</td>\n",
       "      <td>12.750000</td>\n",
       "      <td>1.000000</td>\n",
       "      <td>13.000000</td>\n",
       "      <td>3.000000</td>\n",
       "    </tr>\n",
       "    <tr>\n",
       "      <th>50%</th>\n",
       "      <td>24310.500000</td>\n",
       "      <td>10682.500000</td>\n",
       "      <td>1.000000</td>\n",
       "      <td>16.500000</td>\n",
       "      <td>16.500000</td>\n",
       "      <td>3.000000</td>\n",
       "      <td>16.000000</td>\n",
       "      <td>6.000000</td>\n",
       "    </tr>\n",
       "    <tr>\n",
       "      <th>75%</th>\n",
       "      <td>36465.250000</td>\n",
       "      <td>16100.000000</td>\n",
       "      <td>1.000000</td>\n",
       "      <td>20.250000</td>\n",
       "      <td>20.500000</td>\n",
       "      <td>5.000000</td>\n",
       "      <td>18.000000</td>\n",
       "      <td>9.000000</td>\n",
       "    </tr>\n",
       "    <tr>\n",
       "      <th>max</th>\n",
       "      <td>48620.000000</td>\n",
       "      <td>21350.000000</td>\n",
       "      <td>4.000000</td>\n",
       "      <td>35.950000</td>\n",
       "      <td>83.000000</td>\n",
       "      <td>6.000000</td>\n",
       "      <td>23.000000</td>\n",
       "      <td>12.000000</td>\n",
       "    </tr>\n",
       "  </tbody>\n",
       "</table>\n",
       "</div>"
      ],
      "text/plain": [
       "       order_details_id  table_number      quantity    unit_price  \\\n",
       "count      48620.000000  48620.000000  48620.000000  48620.000000   \n",
       "mean       24310.500000  10701.479761      1.019622     16.494132   \n",
       "std        14035.529381   6180.119770      0.143077      3.621789   \n",
       "min            1.000000      1.000000      1.000000      9.750000   \n",
       "25%        12155.750000   5337.000000      1.000000     12.750000   \n",
       "50%        24310.500000  10682.500000      1.000000     16.500000   \n",
       "75%        36465.250000  16100.000000      1.000000     20.250000   \n",
       "max        48620.000000  21350.000000      4.000000     35.950000   \n",
       "\n",
       "        total_price   day_of_week   hour_of_day  month_of_sale  \n",
       "count  48620.000000  48620.000000  48620.000000   48620.000000  \n",
       "mean      16.821474      3.023797     15.911806       6.451131  \n",
       "std        4.437398      1.934155      3.149836       3.435420  \n",
       "min        9.750000      0.000000      9.000000       1.000000  \n",
       "25%       12.750000      1.000000     13.000000       3.000000  \n",
       "50%       16.500000      3.000000     16.000000       6.000000  \n",
       "75%       20.500000      5.000000     18.000000       9.000000  \n",
       "max       83.000000      6.000000     23.000000      12.000000  "
      ]
     },
     "execution_count": 11,
     "metadata": {},
     "output_type": "execute_result"
    }
   ],
   "source": [
    "df.describe()"
   ]
  },
  {
   "cell_type": "code",
   "execution_count": 41,
   "metadata": {},
   "outputs": [
    {
     "data": {
      "text/plain": [
       "49574"
      ]
     },
     "execution_count": 41,
     "metadata": {},
     "output_type": "execute_result"
    }
   ],
   "source": [
    "#Question: How many pizzas have sold in total?\n",
    "df[\"quantity\"].sum()"
   ]
  },
  {
   "cell_type": "code",
   "execution_count": 46,
   "metadata": {},
   "outputs": [
    {
     "data": {
      "text/plain": [
       "pizza_name                                  pizza_size\n",
       "The Greek Pizza                             XXL           35.95\n",
       "                                            XL            25.50\n",
       "The Brie Carre Pizza                        S             23.65\n",
       "The Italian Vegetables Pizza                L             21.00\n",
       "The Prosciutto and Arugula Pizza            L             20.75\n",
       "                                                          ...  \n",
       "The Big Meat Pizza                          S             12.00\n",
       "The Vegetables + Vegetables Pizza           S             12.00\n",
       "The Pepperoni, Mushroom, and Peppers Pizza  S             11.00\n",
       "The Hawaiian Pizza                          S             10.50\n",
       "The Pepperoni Pizza                         S              9.75\n",
       "Name: unit_price, Length: 91, dtype: float64"
      ]
     },
     "execution_count": 46,
     "metadata": {},
     "output_type": "execute_result"
    }
   ],
   "source": [
    "#What is the most/least a customer will pay for a pizza?\n",
    "df.groupby([\"pizza_name\", 'pizza_size'])['unit_price'].mean().sort_values()\n",
    "df.groupby([\"pizza_name\", 'pizza_size'])['unit_price'].mean().sort_values(ascending=False)"
   ]
  },
  {
   "attachments": {},
   "cell_type": "markdown",
   "metadata": {},
   "source": [
    "It looks like the total sales for 2015 were $817,860.05. 48,620 orders were placed for the year and in total, the company sold 49,574 pizzas. \n",
    "\n",
    "The average cost of any pizza at BB's will run a customer $16.49. The most a customer will pay is $35.95 for a XXL Greek Pizza, and the least is $9.75 for a small pepperoni. The most a customer has spent at BB's is $83.00. On average, a customer order will make a sale of $16.82."
   ]
  },
  {
   "attachments": {},
   "cell_type": "markdown",
   "metadata": {},
   "source": [
    "BB's top selling pizzas for the year were:"
   ]
  },
  {
   "cell_type": "code",
   "execution_count": 13,
   "metadata": {},
   "outputs": [
    {
     "data": {
      "text/plain": [
       "pizza_name\n",
       "The Thai Chicken Pizza          43434.25\n",
       "The Barbecue Chicken Pizza      42768.00\n",
       "The California Chicken Pizza    41409.50\n",
       "The Classic Deluxe Pizza        38180.50\n",
       "The Spicy Italian Pizza         34831.25\n",
       "The Southwest Chicken Pizza     34705.75\n",
       "The Italian Supreme Pizza       33476.75\n",
       "The Hawaiian Pizza              32273.25\n",
       "The Four Cheese Pizza           32265.70\n",
       "The Sicilian Pizza              30940.50\n",
       "Name: total_price, dtype: float64"
      ]
     },
     "execution_count": 13,
     "metadata": {},
     "output_type": "execute_result"
    }
   ],
   "source": [
    "#It looks like these 10 pizzas brought in the most sales.\n",
    "df.groupby('pizza_name')['total_price'].sum().round(2).sort_values(ascending=False).head(10)"
   ]
  },
  {
   "attachments": {},
   "cell_type": "markdown",
   "metadata": {},
   "source": [
    "**Suggestion**: Focus discounts and promotions for customers on these popular flavors.  "
   ]
  },
  {
   "attachments": {},
   "cell_type": "markdown",
   "metadata": {},
   "source": [
    "And which pizzas didn't sell so well?\n"
   ]
  },
  {
   "cell_type": "code",
   "execution_count": 14,
   "metadata": {},
   "outputs": [
    {
     "data": {
      "text/plain": [
       "pizza_name\n",
       "The Brie Carre Pizza            11588.50\n",
       "The Green Garden Pizza          13955.75\n",
       "The Spinach Supreme Pizza       15277.75\n",
       "The Mediterranean Pizza         15360.50\n",
       "The Spinach Pesto Pizza         15596.00\n",
       "The Calabrese Pizza             15934.25\n",
       "The Italian Vegetables Pizza    16019.25\n",
       "The Soppressata Pizza           16425.75\n",
       "The Chicken Pesto Pizza         16701.75\n",
       "The Chicken Alfredo Pizza       16900.25\n",
       "Name: total_price, dtype: float64"
      ]
     },
     "execution_count": 14,
     "metadata": {},
     "output_type": "execute_result"
    }
   ],
   "source": [
    "df.groupby('pizza_name')['total_price'].sum().round(2).sort_values(ascending=True).head(10)"
   ]
  },
  {
   "attachments": {},
   "cell_type": "markdown",
   "metadata": {},
   "source": [
    "How many different flavors of pizza do are offered at BB's?"
   ]
  },
  {
   "cell_type": "code",
   "execution_count": 15,
   "metadata": {},
   "outputs": [
    {
     "data": {
      "text/plain": [
       "32"
      ]
     },
     "execution_count": 15,
     "metadata": {},
     "output_type": "execute_result"
    }
   ],
   "source": [
    "df.pizza_name.value_counts().count()"
   ]
  },
  {
   "attachments": {},
   "cell_type": "markdown",
   "metadata": {},
   "source": [
    "**Suggestion:** Could less flavor options increase sales? By eliminating options customers don't necesarrily prefer and removing the cost of making those flavors, there could be a boost in overall revenue for the year."
   ]
  },
  {
   "attachments": {},
   "cell_type": "markdown",
   "metadata": {},
   "source": [
    "What do sales look like by pizza size?"
   ]
  },
  {
   "cell_type": "code",
   "execution_count": 16,
   "metadata": {},
   "outputs": [
    {
     "data": {
      "text/plain": [
       "pizza_size\n",
       "L      375318.70\n",
       "M      249382.25\n",
       "S      178076.50\n",
       "XL      14076.00\n",
       "XXL      1006.60\n",
       "Name: total_price, dtype: float64"
      ]
     },
     "execution_count": 16,
     "metadata": {},
     "output_type": "execute_result"
    }
   ],
   "source": [
    "df.groupby('pizza_size')['total_price'].sum().round(2).sort_values(ascending=False)"
   ]
  },
  {
   "attachments": {},
   "cell_type": "markdown",
   "metadata": {},
   "source": [
    "Large pizza sales seem to dominate customer orders.\n",
    "Let's create a menu for the 5 top selling large flavors:"
   ]
  },
  {
   "cell_type": "code",
   "execution_count": 17,
   "metadata": {},
   "outputs": [
    {
     "data": {
      "text/plain": [
       "pizza_name                   pizza_size  unit_price\n",
       "The Thai Chicken Pizza       L           20.75         29257.50\n",
       "The Five Cheese Pizza        L           18.50         26066.50\n",
       "The Four Cheese Pizza        L           17.95         23622.20\n",
       "The Spicy Italian Pizza      L           20.75         23011.75\n",
       "The Southwest Chicken Pizza  L           20.75         21082.00\n",
       "Name: total_price, dtype: float64"
      ]
     },
     "execution_count": 17,
     "metadata": {},
     "output_type": "execute_result"
    }
   ],
   "source": [
    "df.query('pizza_size == \"L\"').groupby(['pizza_name', 'pizza_size', 'unit_price'])['total_price'].sum().round(2).sort_values(ascending=False).head(5)"
   ]
  },
  {
   "attachments": {},
   "cell_type": "markdown",
   "metadata": {},
   "source": [
    "How many different types of pizza are sold? What is the top selling category? What percentage of sales does each category make up of total sales?\n"
   ]
  },
  {
   "cell_type": "code",
   "execution_count": 18,
   "metadata": {},
   "outputs": [
    {
     "name": "stdout",
     "output_type": "stream",
     "text": [
      "                  min    max       mean  median\n",
      "pizza_category                                 \n",
      "Chicken         12.75  83.00  18.115534   16.75\n",
      "Classic          9.75  61.50  15.093840   14.50\n",
      "Supreme         12.25  62.25  17.678271   16.50\n",
      "Veggie          12.00  55.50  16.917674   16.75\n"
     ]
    }
   ],
   "source": [
    "#category stats\n",
    "cat_sales_stats = df.groupby(\"pizza_category\")[\"total_price\"].agg(['min', 'max', 'mean', 'median'])\n",
    "print(cat_sales_stats)"
   ]
  },
  {
   "cell_type": "code",
   "execution_count": 47,
   "metadata": {},
   "outputs": [
    {
     "data": {
      "text/plain": [
       "pizza_category\n",
       "Classic           14579\n",
       "Supreme           11777\n",
       "Veggie            11449\n",
       "Chicken           10815\n",
       "dtype: int64"
      ]
     },
     "execution_count": 47,
     "metadata": {},
     "output_type": "execute_result"
    }
   ],
   "source": [
    "# Four different types of pizzas at BBs: # of sales\n",
    "df[[\"pizza_category\"]].value_counts()"
   ]
  },
  {
   "cell_type": "code",
   "execution_count": 20,
   "metadata": {},
   "outputs": [
    {
     "data": {
      "text/plain": [
       "pizza_category\n",
       "Classic    220053.10\n",
       "Supreme    208197.00\n",
       "Chicken    195919.50\n",
       "Veggie     193690.45\n",
       "Name: total_price, dtype: float64"
      ]
     },
     "execution_count": 20,
     "metadata": {},
     "output_type": "execute_result"
    }
   ],
   "source": [
    "df.groupby(\"pizza_category\")[\"total_price\"].sum().sort_values(ascending=False)"
   ]
  },
  {
   "cell_type": "code",
   "execution_count": 21,
   "metadata": {},
   "outputs": [
    {
     "name": "stdout",
     "output_type": "stream",
     "text": [
      "{'Classic': 27, 'Supreme': 25, 'Veggie': 24, 'Chicken': 24}\n"
     ]
    }
   ],
   "source": [
    "#sales per category\n",
    "all_bb_sales = df[\"total_price\"].sum()\n",
    "all_categories = {'Classic': 'Classic', 'Supreme':'Supreme', 'Veggie': 'Veggie', 'Chicken': 'Chicken'}\n",
    "\n",
    "classic_sales = round(df[df[\"pizza_category\"] == 'Classic'][\"total_price\"].sum() / all_bb_sales * 100)\n",
    "supreme_sales = round(df[df[\"pizza_category\"] == 'Supreme'][\"total_price\"].sum() / all_bb_sales * 100)\n",
    "veggie_sales = round(df[df[\"pizza_category\"] == 'Veggie'][\"total_price\"].sum() / all_bb_sales * 100)\n",
    "chicken_sales = round(df[df[\"pizza_category\"] == 'Chicken'][\"total_price\"].sum() / all_bb_sales * 100)\n",
    "\n",
    "\n",
    "category_sales = {}\n",
    "\n",
    "for i in all_categories:\n",
    "    if all_categories[i] == 'Supreme':\n",
    "        category_sales[i] = supreme_sales\n",
    "    elif all_categories[i] == 'Classic':\n",
    "        category_sales[i] = classic_sales\n",
    "    elif all_categories[i] == 'Veggie':\n",
    "        category_sales[i] = veggie_sales\n",
    "    elif all_categories[i] == 'Chicken':\n",
    "        category_sales[i] = chicken_sales\n",
    "    else:\n",
    "        print(\"done\")\n",
    "\n",
    "print(category_sales)"
   ]
  },
  {
   "attachments": {},
   "cell_type": "markdown",
   "metadata": {},
   "source": [
    "Classic pizza options made up the most of BB's sales (14,579 sold, $220,053.10 in sales (27%)).\n",
    "\n",
    "**Suggestion:** BB's could offer:\n",
    "- Discounts on Classic pizzas\n",
    "- Discounts on Classic large pizzas\n",
    "\n",
    "to increase customer traffic and promote sales.\n",
    "\n",
    "\n",
    "\n"
   ]
  },
  {
   "attachments": {},
   "cell_type": "markdown",
   "metadata": {},
   "source": [
    "Which classic pizza is selling the best?\n"
   ]
  },
  {
   "cell_type": "code",
   "execution_count": 23,
   "metadata": {},
   "outputs": [
    {
     "data": {
      "text/plain": [
       "pizza_name                pizza_size\n",
       "The Big Meat Pizza        S             22968.0\n",
       "The Classic Deluxe Pizza  M             18896.0\n",
       "The Hawaiian Pizza        L             15163.5\n",
       "The Greek Pizza           XL            14076.0\n",
       "The Classic Deluxe Pizza  L              9696.5\n",
       "                          S              9588.0\n",
       "The Greek Pizza           L              5227.5\n",
       "                          M              4496.0\n",
       "                          S              3648.0\n",
       "                          XXL            1006.6\n",
       "Name: total_price, dtype: float64"
      ]
     },
     "execution_count": 23,
     "metadata": {},
     "output_type": "execute_result"
    }
   ],
   "source": [
    "df.query('pizza_category == \"Classic\"').groupby(['pizza_name', 'pizza_size'])['total_price'].sum().round(2).head(10).sort_values(ascending=False)"
   ]
  },
  {
   "attachments": {},
   "cell_type": "markdown",
   "metadata": {},
   "source": [
    "What do the store's classic options look like and what ingredients do they need?"
   ]
  },
  {
   "cell_type": "code",
   "execution_count": 22,
   "metadata": {},
   "outputs": [
    {
     "data": {
      "text/plain": [
       "pizza_name                                  pizza_ingredients                                                           \n",
       "The Greek Pizza                             Kalamata Olives, Feta Cheese, Tomatoes, Garlic, Beef Chuck Roast, Red Onions    20.035633\n",
       "The Italian Capocollo Pizza                 Capocollo, Red Peppers, Tomatoes, Goat Cheese, Garlic, Oregano                  17.426803\n",
       "The Napolitana Pizza                        Tomatoes, Anchovies, Green Olives, Red Onions, Garlic                           16.437285\n",
       "The Classic Deluxe Pizza                    Pepperoni, Mushrooms, Red Onions, Red Peppers, Bacon                            15.575952\n",
       "The Pepperoni, Mushroom, and Peppers Pizza  Pepperoni, Mushrooms, Green Peppers                                             13.865127\n",
       "The Hawaiian Pizza                          Sliced Ham, Pineapple, Mozzarella Cheese                                        13.317194\n",
       "The Pepperoni Pizza                         Mozzarella Cheese, Pepperoni                                                    12.468658\n",
       "The Big Meat Pizza                          Bacon, Pepperoni, Italian Sausage, Chorizo Sausage                              12.000000\n",
       "Name: unit_price, dtype: float64"
      ]
     },
     "execution_count": 22,
     "metadata": {},
     "output_type": "execute_result"
    }
   ],
   "source": [
    "df.query('pizza_category == \"Classic\"').groupby(['pizza_name', 'pizza_ingredients'])[\"unit_price\"].mean().sort_values(ascending=False)"
   ]
  },
  {
   "attachments": {},
   "cell_type": "markdown",
   "metadata": {},
   "source": [
    "On average, what are the 10 top selling pizzas?"
   ]
  },
  {
   "cell_type": "code",
   "execution_count": 52,
   "metadata": {},
   "outputs": [
    {
     "data": {
      "text/plain": [
       "pizza_name                    pizza_size\n",
       "The Thai Chicken Pizza        L             29257.50\n",
       "The Five Cheese Pizza         L             26066.50\n",
       "The Four Cheese Pizza         L             23622.20\n",
       "The Spicy Italian Pizza       L             23011.75\n",
       "The Big Meat Pizza            S             22968.00\n",
       "The Southwest Chicken Pizza   L             21082.00\n",
       "The Barbecue Chicken Pizza    L             20584.00\n",
       "The California Chicken Pizza  L             19235.25\n",
       "The Classic Deluxe Pizza      M             18896.00\n",
       "The Mexicana Pizza            L             17556.75\n",
       "Name: total_price, dtype: float64"
      ]
     },
     "execution_count": 52,
     "metadata": {},
     "output_type": "execute_result"
    }
   ],
   "source": [
    "df.groupby([\"pizza_name\", \"pizza_size\"]).total_price.sum().sort_values(ascending=False).head(10)"
   ]
  },
  {
   "attachments": {},
   "cell_type": "markdown",
   "metadata": {},
   "source": [
    "Store managers will need to make sure the store is stocked with enough ingredients to pzroduce all of these pizzas. What are the individual ingredients used in all pizzas they'll need to make sure they have:"
   ]
  },
  {
   "cell_type": "code",
   "execution_count": 26,
   "metadata": {},
   "outputs": [
    {
     "data": {
      "text/plain": [
       "0                 Sliced Ham, Pineapple, Mozzarella Cheese\n",
       "1        Pepperoni, Mushrooms, Red Onions, Red Peppers,...\n",
       "2        Mozzarella Cheese, Provolone Cheese, Smoked Go...\n",
       "3        Calabrese Salami, Capocollo, Tomatoes, Red Oni...\n",
       "4        Tomatoes, Red Peppers, Jalapeno Peppers, Red O...\n",
       "                               ...                        \n",
       "48615    Chicken, Red Onions, Red Peppers, Mushrooms, A...\n",
       "48616    Ricotta Cheese, Gorgonzola Piccante Cheese, Mo...\n",
       "48617    Tomatoes, Anchovies, Green Olives, Red Onions,...\n",
       "48618    Tomatoes, Red Peppers, Jalapeno Peppers, Red O...\n",
       "48619    Barbecued Chicken, Red Peppers, Green Peppers,...\n",
       "Name: pizza_ingredients, Length: 48620, dtype: object"
      ]
     },
     "execution_count": 26,
     "metadata": {},
     "output_type": "execute_result"
    }
   ],
   "source": [
    "#creating the ingredients inventory:\n",
    "df[\"pizza_ingredients\"]"
   ]
  },
  {
   "cell_type": "code",
   "execution_count": 27,
   "metadata": {},
   "outputs": [
    {
     "name": "stdout",
     "output_type": "stream",
     "text": [
      "{'Alfredo Sauce', 'Bacon', 'Peperoncini verdi', 'Brie Carre Cheese', 'Plum Tomatoes', 'Anchovies', 'Smoked Gouda Cheese', 'Arugula', 'Luganega Sausage', 'Spinach', 'Provolone Cheese', 'Beef Chuck Roast', 'Jalapeno Peppers', 'Corn', 'Green Olives', 'Oregano', 'Ricotta Cheese', 'Pesto Sauce', 'Artichokes', 'Soppressata Salami', 'Friggitello Peppers', 'Pancetta', 'Chorizo Sausage', '慛duja Salami', 'Calabrese Salami', 'Coarse Sicilian Salami', 'Caramelized Onions', 'Red Peppers', 'Chicken', 'Asiago Cheese', 'Italian Sausage', 'Parmigiano Reggiano Cheese', 'Mozzarella Cheese', 'Gouda Cheese', 'Zucchini', 'Barbecued Chicken', 'Red Onions', 'Pears', 'Fontina Cheese', 'Genoa Salami', 'Eggplant', 'Prosciutto', 'Thyme', 'Pineapple', 'Mushrooms', 'Blue Cheese', 'Kalamata Olives', 'Gorgonzola Piccante Cheese', 'Barbecue Sauce', 'Garlic', 'Goat Cheese', 'Onions', 'Chipotle Sauce', 'Sliced Ham', 'Tomatoes', 'Prosciutto di San Daniele', 'Cilantro', 'Green Peppers', 'Pepperoni', 'Feta Cheese', 'Capocollo', 'Sun-dried Tomatoes', 'Artichoke', 'Romano Cheese', 'Thai Sweet Chilli Sauce'}\n"
     ]
    }
   ],
   "source": [
    "inventory = []\n",
    "list_of_ingredients = df[\"pizza_ingredients\"]\n",
    "# print(list_of_ingredients)\n",
    "for n in list_of_ingredients:\n",
    "#  print(n.split(\",\"))\n",
    " inventory.append(n.split(\", \"))\n",
    "\n",
    "# print([olist[5]])\n",
    "\n",
    "def remove_duplicates(pizzas):\n",
    "    ingredients = set()\n",
    "    for pizza in inventory:\n",
    "        for ingredient in pizza:\n",
    "            ingredients.add(ingredient)\n",
    "    return ingredients\n",
    "\n",
    "unique_ingredients = remove_duplicates(inventory)\n",
    "print(unique_ingredients)"
   ]
  },
  {
   "attachments": {},
   "cell_type": "markdown",
   "metadata": {},
   "source": [
    "Store managers will also need an estimate number of pizza boxes to have in the store for orders.\n"
   ]
  },
  {
   "cell_type": "code",
   "execution_count": 28,
   "metadata": {},
   "outputs": [
    {
     "name": "stdout",
     "output_type": "stream",
     "text": [
      " # of S boxes: 14137\n",
      " # of M boxes: 15385\n",
      " # of L boxes: 18526\n",
      " # of XL boxes: 544\n",
      " # of XXL boxes: 28\n"
     ]
    }
   ],
   "source": [
    "all_box_sales = df[\"total_price\"].sum()\n",
    "# print(f'The total amount of box sales is ${all_box_sales}')\n",
    "box_sizes = {\"S\":\"S\", \"M\":\"M\", 'L':\"L\", 'XL':\"XL\", 'XXL': 'XXL'}\n",
    "\n",
    "# num_of_boxes_sales =  df.groupby(\"pizza_size\")[\"total_price\"].value_counts().sum()\n",
    "# print(num_of_boxes_sales)\n",
    "\n",
    "\n",
    "# num of box sizes\n",
    "for i in box_sizes:\n",
    "        pizza_size = box_sizes[i]\n",
    "        num_of_boxes = df[df[\"pizza_size\"] == pizza_size][\"total_price\"].value_counts().sum() \n",
    "        print(f' # of {pizza_size} boxes: {num_of_boxes}')\n",
    "\n",
    "\n",
    "# #sales per size of box\n",
    "# for i in box_sizes:\n",
    "#         pizza_size = box_sizes[i]\n",
    "#         sales_of_boxes = df[df[\"pizza_size\"] == pizza_size][\"total_price\"].sum()\n",
    "#         print(f'{pizza_size} box sales: ${sales_of_boxes.round(2)}')\n",
    "\n",
    "#pct of sales by pizza_size\n",
    "# for i in box_sizes:\n",
    "#         pizza_size = box_sizes[i]\n",
    "#         pct_of_sizes = (sales_of_boxes / all_box_sales) * 100\n",
    "#         print(f'{pizza_size} box sales make up {pct_of_sizes.round(2)}% of sales')\n",
    "\n",
    "\n",
    "#medium boxes\n",
    "# num_of_m_boxes = df[df[\"pizza_size\"] == 'M'][\"total_price\"].value_counts().sum() \n",
    "# print(num_of_m_boxes)\n",
    "# sales_of_m_boxes = df[df[\"pizza_size\"] == 'M'][\"total_price\"].sum()\n",
    "# print(sales_of_m_boxes)\n",
    "# pct_of_msizes = sales_of_m_boxes / all_box_sales * 100\n",
    "# print(pct_of_msizes)"
   ]
  },
  {
   "attachments": {},
   "cell_type": "markdown",
   "metadata": {},
   "source": [
    "With a total of 49,574 pizzas sold, it would be safe for managers to order at least 14,140 S boxes, 15,390 M boxes, 18,530 large boxes, 540 XL boxes, and 30 XL boxes."
   ]
  },
  {
   "attachments": {},
   "cell_type": "markdown",
   "metadata": {},
   "source": [
    "Next, we'll start gathering the data we'll need for the interactive dashboard. Let's first handle the stakeholders requests: When is the store getting the most customer orders and making the most sales?  \n"
   ]
  },
  {
   "cell_type": "code",
   "execution_count": 49,
   "metadata": {},
   "outputs": [
    {
     "data": {
      "text/plain": [
       "4    8106\n",
       "5    7355\n",
       "3    7323\n",
       "2    6797\n",
       "1    6753\n",
       "0    6369\n",
       "6    5917\n",
       "Name: day_of_week, dtype: int64"
      ]
     },
     "execution_count": 49,
     "metadata": {},
     "output_type": "execute_result"
    }
   ],
   "source": [
    "#What day of the week do we get the most orders\n",
    "df[\"day_of_week\"].value_counts().sort_values(ascending=False)\n",
    "# #what time of the day?\n",
    "df[\"hour_of_day\"].value_counts().sort_values(ascending=False)\n",
    "# what month?\n",
    "# df[\"month_of_sale\"].value_counts().sort_values(ascending=False)\n"
   ]
  },
  {
   "cell_type": "code",
   "execution_count": 30,
   "metadata": {},
   "outputs": [
    {
     "data": {
      "text/plain": [
       "month_of_sale\n",
       "7     72557.90\n",
       "5     71402.75\n",
       "3     70397.10\n",
       "11    70395.35\n",
       "1     69793.30\n",
       "4     68736.80\n",
       "8     68278.25\n",
       "6     68230.20\n",
       "2     65159.60\n",
       "12    64701.15\n",
       "9     64180.05\n",
       "10    64027.60\n",
       "Name: total_price, dtype: float64"
      ]
     },
     "execution_count": 30,
     "metadata": {},
     "output_type": "execute_result"
    }
   ],
   "source": [
    "df.groupby(\"month_of_sale\")[\"total_price\"].sum().sort_values(ascending = False)"
   ]
  },
  {
   "attachments": {},
   "cell_type": "markdown",
   "metadata": {},
   "source": [
    "It looks like peak store sales and orders were from May to September with a decline until picking back up in November. \n",
    "\n",
    "**Suggestion**: Marketing could use this data to plan seasonal campaigns to engage customers and increase sales."
   ]
  },
  {
   "cell_type": "code",
   "execution_count": 31,
   "metadata": {},
   "outputs": [
    {
     "data": {
      "text/plain": [
       "hour_of_day\n",
       "12    111877.90\n",
       "13    106065.70\n",
       "18     89296.85\n",
       "17     86237.45\n",
       "19     72628.90\n",
       "16     70055.40\n",
       "14     59201.40\n",
       "20     58215.40\n",
       "15     52992.30\n",
       "11     44935.80\n",
       "21     42029.80\n",
       "22     22815.15\n",
       "23      1121.35\n",
       "10       303.65\n",
       "9         83.00\n",
       "Name: total_price, dtype: float64"
      ]
     },
     "execution_count": 31,
     "metadata": {},
     "output_type": "execute_result"
    }
   ],
   "source": [
    "df.groupby(\"hour_of_day\")[\"total_price\"].sum().sort_values(ascending = False)"
   ]
  },
  {
   "cell_type": "code",
   "execution_count": 32,
   "metadata": {},
   "outputs": [
    {
     "data": {
      "text/plain": [
       "day_of_week\n",
       "4    136073.90\n",
       "3    123528.50\n",
       "5    123182.40\n",
       "2    114408.40\n",
       "1    114133.80\n",
       "0    107329.55\n",
       "6     99203.50\n",
       "Name: total_price, dtype: float64"
      ]
     },
     "execution_count": 32,
     "metadata": {},
     "output_type": "execute_result"
    }
   ],
   "source": [
    "df.groupby(\"day_of_week\")[\"total_price\"].sum().sort_values(ascending = False)"
   ]
  },
  {
   "attachments": {},
   "cell_type": "markdown",
   "metadata": {},
   "source": [
    "The most sales and customer orders are made on Thursdays. Peak sale hours are from 12PM to 1PM with a decline until picking back up from 5PM to 6PM. It look's like the lunch rush and the return from work are two of the most popular times for sales. \n",
    "\n",
    "**Suggestion**: The marketing and sales departments could work on offering a lunch menu discount or dinner menu combo on Thursday's to boost sales."
   ]
  },
  {
   "cell_type": "code",
   "execution_count": 33,
   "metadata": {},
   "outputs": [
    {
     "name": "stdout",
     "output_type": "stream",
     "text": [
      "                                              min    max       mean  median\n",
      "pizza_name                                                                 \n",
      "The Barbecue Chicken Pizza                  12.75  62.25  18.030354   16.75\n",
      "The Big Meat Pizza                          12.00  48.00  12.682496   12.00\n",
      "The Brie Carre Pizza                        23.65  47.30  24.142708   23.65\n",
      "The Calabrese Pizza                         12.25  40.50  17.189051   16.25\n",
      "The California Chicken Pizza                12.75  83.00  17.988488   16.75\n",
      "The Chicken Alfredo Pizza                   12.75  41.50  17.245153   16.75\n",
      "The Chicken Pesto Pizza                     12.75  41.50  17.379553   16.75\n",
      "The Classic Deluxe Pizza                    12.00  48.00  15.803187   16.00\n",
      "The Five Cheese Pizza                       18.50  55.50  19.180648   18.50\n",
      "The Four Cheese Pizza                       14.75  35.90  17.440919   17.95\n",
      "The Greek Pizza                             12.00  51.00  20.237624   20.50\n",
      "The Green Garden Pizza                      12.00  40.50  14.139564   12.00\n",
      "The Hawaiian Pizza                          10.50  49.50  13.617405   13.25\n",
      "The Italian Capocollo Pizza                 12.00  61.50  17.746818   20.50\n",
      "The Italian Supreme Pizza                   12.50  41.50  18.105327   16.50\n",
      "The Italian Vegetables Pizza                12.75  33.50  16.430000   16.75\n",
      "The Mediterranean Pizza                     12.00  40.50  16.641928   16.00\n",
      "The Mexicana Pizza                          12.00  40.50  18.393372   20.25\n",
      "The Napolitana Pizza                        12.00  41.00  16.600276   16.00\n",
      "The Pepper Salami Pizza                     12.50  41.50  17.952883   16.50\n",
      "The Pepperoni Pizza                          9.75  37.50  12.731849   12.50\n",
      "The Pepperoni, Mushroom, and Peppers Pizza  11.00  35.00  14.034650   14.50\n",
      "The Prosciutto and Arugula Pizza            12.50  62.25  16.942052   16.50\n",
      "The Sicilian Pizza                          12.25  48.75  16.396661   16.25\n",
      "The Soppressata Pizza                       12.50  41.50  17.163793   16.50\n",
      "The Southwest Chicken Pizza                 12.75  41.50  18.411538   20.75\n",
      "The Spicy Italian Pizza                     12.50  62.25  18.458532   20.75\n",
      "The Spinach Pesto Pizza                     12.50  41.50  16.296761   16.50\n",
      "The Spinach Supreme Pizza                   12.50  41.50  16.252926   16.50\n",
      "The Spinach and Feta Pizza                  12.00  40.50  16.250873   16.00\n",
      "The Thai Chicken Pizza                      12.75  62.25  18.762095   20.75\n",
      "The Vegetables + Vegetables Pizza           12.00  40.50  16.142219   16.00\n"
     ]
    }
   ],
   "source": [
    "# name stats\n",
    "name_sales_stats = df.groupby(\"pizza_name\")[\"total_price\"].agg(['min', 'max', 'mean', 'median'])\n",
    "print(name_sales_stats)"
   ]
  },
  {
   "cell_type": "code",
   "execution_count": 34,
   "metadata": {},
   "outputs": [
    {
     "name": "stdout",
     "output_type": "stream",
     "text": [
      "                min    max       mean  median\n",
      "pizza_id                                     \n",
      "bbq_ckn_l     20.75  62.25  21.286453   20.75\n",
      "bbq_ckn_m     16.75  50.25  17.292657   16.75\n",
      "bbq_ckn_s     12.75  25.50  12.883090   12.75\n",
      "big_meat_s    12.00  48.00  12.682496   12.00\n",
      "brie_carre_s  23.65  47.30  24.142708   23.65\n",
      "calabrese_l   20.25  40.50  20.397810   20.25\n",
      "calabrese_m   16.25  32.50  16.484657   16.25\n",
      "calabrese_s   12.25  12.25  12.250000   12.25\n",
      "cali_ckn_l    20.75  83.00  21.491899   20.75\n",
      "cali_ckn_m    16.75  33.50  17.299781   16.75\n"
     ]
    }
   ],
   "source": [
    "#details stats\n",
    "details_sales_stats =  df.groupby(\"pizza_id\")[\"total_price\"].agg(['min', 'max', 'mean', 'median'])\n",
    "print(details_sales_stats.head(10))"
   ]
  },
  {
   "cell_type": "code",
   "execution_count": 35,
   "metadata": {},
   "outputs": [],
   "source": [
    "df.to_csv('pizzasales.csv')"
   ]
  },
  {
   "attachments": {},
   "cell_type": "markdown",
   "metadata": {},
   "source": [
    "The stakeholders would like for a dashboard to be created making sure to include:\n",
    "- Customer orders and sales\n",
    "- Top selling items \n",
    "- Monthly and daily sales\n",
    "\n",
    " This interactive dashboard in [Tableau](https://public.tableau.com/views/pizza_sales_16794579121300/pizza?:language=en-US&publish=yes&:display_count=n&:origin=viz_share_link) details just that and more."
   ]
  }
 ],
 "metadata": {
  "kernelspec": {
   "display_name": "base",
   "language": "python",
   "name": "python3"
  },
  "language_info": {
   "codemirror_mode": {
    "name": "ipython",
    "version": 3
   },
   "file_extension": ".py",
   "mimetype": "text/x-python",
   "name": "python",
   "nbconvert_exporter": "python",
   "pygments_lexer": "ipython3",
   "version": "3.10.8"
  },
  "orig_nbformat": 4,
  "vscode": {
   "interpreter": {
    "hash": "0ec4f738f3836606823b7ea641985b15683ad8e1b4b3c130bf74d8343c8490e2"
   }
  }
 },
 "nbformat": 4,
 "nbformat_minor": 2
}
